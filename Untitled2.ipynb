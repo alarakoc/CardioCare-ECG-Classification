{
  "nbformat": 4,
  "nbformat_minor": 0,
  "metadata": {
    "colab": {
      "provenance": []
    },
    "kernelspec": {
      "name": "python3",
      "display_name": "Python 3"
    },
    "language_info": {
      "name": "python"
    }
  },
  "cells": [
    {
      "cell_type": "code",
      "execution_count": null,
      "metadata": {
        "id": "RKB5fqgqhuV6"
      },
      "outputs": [],
      "source": [
        "pip install wfdb"
      ]
    },
    {
      "cell_type": "markdown",
      "source": [
        "WFDB Documentation: https://wfdb.readthedocs.io/en/stable/io.html\n",
        "\n",
        "WFDB ECG Library Documentation:https://wfdb.readthedocs.io/en/latest/processing.html\n",
        "\n",
        "Scikit-learn Documentation: https://scikit-learn.org/stable/"
      ],
      "metadata": {
        "id": "e7ISYknah2Kz"
      }
    },
    {
      "cell_type": "code",
      "source": [
        "import wfdb\n",
        "import csv\n",
        "from google.colab import drive\n",
        "import pandas as pd\n",
        "from sklearn.decomposition import PCA\n",
        "from sklearn.svm import SVC\n",
        "from sklearn.preprocessing import StandardScaler\n",
        "from sklearn.pipeline import Pipeline\n",
        "import matplotlib.pyplot as plt\n",
        "from mpl_toolkits.mplot3d import Axes3D\n",
        "from wfdb import processing\n",
        "import numpy as np\n",
        "import statistics\n",
        "import torch\n",
        "import torch.nn as nn\n",
        "from torch.autograd import Variable\n",
        "from torch.utils.data import DataLoader, TensorDataset\n",
        "import random\n",
        "from sklearn.model_selection import train_test_split, learning_curve\n",
        "from sklearn.preprocessing import LabelEncoder, StandardScaler\n",
        "from sklearn.metrics import accuracy_score, classification_report, confusion_matrix\n",
        "from sklearn.model_selection import LearningCurveDisplay\n",
        "import seaborn as sns\n",
        "\n",
        "\n",
        "random.seed(4)\n",
        "\n",
        "drive.mount('/content/drive')\n",
        "#import ..."
      ],
      "metadata": {
        "id": "cXIyp0enhxcc"
      },
      "execution_count": null,
      "outputs": []
    },
    {
      "cell_type": "code",
      "source": [
        "# Function that returns path to the relevant patient files\n",
        "# Input: patient number (type=int)\n",
        "# Output: path (type=string)\n",
        "def get_path(path,patient_number):\n",
        "  if path == 0:\n",
        "    if patient_number < 10:\n",
        "      return '/content/drive/My Drive/Test/p00/p0000'+str(patient_number)+'/p0000'+str(patient_number)+'_s00'\n",
        "    else:\n",
        "      return '/content/drive/My Drive/Test/p00/p000'+str(patient_number)+'/p000'+str(patient_number)+'_s00'\n",
        "\n",
        "  if path == 1:\n",
        "    if patient_number < 10:\n",
        "      return '/content/drive/My Drive/Test/p01/p0100'+str(patient_number)+'/p0100'+str(patient_number)+'_s00'\n",
        "    else:\n",
        "      return '/content/drive/My Drive/Test/p01/p010'+str(patient_number)+'/p010'+str(patient_number)+'_s00'\n",
        "\n",
        "  if path == 2:\n",
        "    if patient_number < 10:\n",
        "      return '/content/drive/My Drive/Test/p02/p0200'+str(patient_number)+'/p0200'+str(patient_number)+'_s00'\n",
        "    else:\n",
        "      return '/content/drive/My Drive/Test/p02/p020'+str(patient_number)+'/p020'+str(patient_number)+'_s00'\n",
        "\n",
        "  if path == 3:\n",
        "    if patient_number < 10:\n",
        "      return '/content/drive/My Drive/Test/p03/p0300'+str(patient_number)+'/p0300'+str(patient_number)+'_s00'\n",
        "    else:\n",
        "      return '/content/drive/My Drive/Test/p03/p030'+str(patient_number)+'/p030'+str(patient_number)+'_s00'\n",
        "\n",
        "  if path == 4:\n",
        "    if patient_number < 10:\n",
        "      return '/content/drive/My Drive/Test/p04/p0400'+str(patient_number)+'/p0400'+str(patient_number)+'_s00'\n",
        "    else:\n",
        "      return '/content/drive/My Drive/Test/p04/p040'+str(patient_number)+'/p040'+str(patient_number)+'_s00'\n",
        "\n",
        "  if path == 5:\n",
        "    if patient_number < 10:\n",
        "      return '/content/drive/My Drive/Test/p05/p0500'+str(patient_number)+'/p0500'+str(patient_number)+'_s00'\n",
        "    else:\n",
        "      return '/content/drive/My Drive/Test/p05/p050'+str(patient_number)+'/p050'+str(patient_number)+'_s00'\n",
        "\n",
        "  if path == 6:\n",
        "    if patient_number < 10:\n",
        "      return '/content/drive/My Drive/Test/p06/p0600'+str(patient_number)+'/p0600'+str(patient_number)+'_s00'\n",
        "    else:\n",
        "      return '/content/drive/My Drive/Test/p06/p060'+str(patient_number)+'/p060'+str(patient_number)+'_s00'\n",
        "\n",
        "  if path == 7:\n",
        "    if patient_number < 10:\n",
        "      return '/content/drive/My Drive/Test/p07/p0700'+str(patient_number)+'/p0700'+str(patient_number)+'_s00'\n",
        "    else:\n",
        "      return '/content/drive/My Drive/Test/p07/p070'+str(patient_number)+'/p070'+str(patient_number)+'_s00'\n",
        "\n",
        "  if path == 8:\n",
        "    if patient_number < 10:\n",
        "      return '/content/drive/My Drive/Test/p08/p0800'+str(patient_number)+'/p0800'+str(patient_number)+'_s00'\n",
        "    else:\n",
        "      return '/content/drive/My Drive/Test/p08/p080'+str(patient_number)+'/p080'+str(patient_number)+'_s00'\n",
        "\n",
        "  if path == 9:\n",
        "    if patient_number < 10:\n",
        "      return '/content/drive/My Drive/Test/p09/p0900'+str(patient_number)+'/p0900'+str(patient_number)+'_s00'\n",
        "    else:\n",
        "      return '/content/drive/My Drive/Test/p09/p090'+str(patient_number)+'/p090'+str(patient_number)+'_s00'\n",
        "\n",
        "  if path == 10:\n",
        "    if patient_number < 10:\n",
        "      return '/content/drive/My Drive/Test/p10/p1000'+str(patient_number)+'/p1000'+str(patient_number)+'_s00'\n",
        "    else:\n",
        "      return '/content/drive/My Drive/Test/p10/p100'+str(patient_number)+'/p100'+str(patient_number)+'_s00'\n",
        "\n"
      ],
      "metadata": {
        "id": "WMC8ofA_h8Zx"
      },
      "execution_count": null,
      "outputs": []
    },
    {
      "cell_type": "code",
      "source": [
        "signals, fields = wfdb.rdsamp(get_path(9,2) sampfrom=3000, channels=[0])\n",
        "print(\"Signal:\", signals)\n",
        "print(\"Fields:\", fields)"
      ],
      "metadata": {
        "id": "crWCbaN3iHaz"
      },
      "execution_count": null,
      "outputs": []
    },
    {
      "cell_type": "code",
      "source": [
        "temp_record = wfdb.rdrecord(get_path(1,2), sampto=3000)\n",
        "temp_annotation = wfdb.rdann(get_path(1,2), extension='atr', sampto=3000)\n",
        "wfdb.plot_wfdb(record=temp_record, annotation=temp_annotation, plot_sym=True,\n",
        "                   time_units='seconds', title='Icentia11k Single Lead Continuous Raw Electrocardiogram Dataset',\n",
        "                   figsize=(10,4), ecg_grids='all')"
      ],
      "metadata": {
        "id": "gFFaV2lciRuO"
      },
      "execution_count": null,
      "outputs": []
    }
  ]
}