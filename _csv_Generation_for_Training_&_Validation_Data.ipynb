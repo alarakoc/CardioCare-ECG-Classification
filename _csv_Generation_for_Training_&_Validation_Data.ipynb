{
  "nbformat": 4,
  "nbformat_minor": 0,
  "metadata": {
    "colab": {
      "provenance": []
    },
    "kernelspec": {
      "name": "python3",
      "display_name": "Python 3"
    },
    "language_info": {
      "name": "python"
    }
  },
  "cells": [
    {
      "cell_type": "code",
      "execution_count": null,
      "metadata": {
        "id": "SwRBqorpxl7U"
      },
      "outputs": [],
      "source": [
        "pip install wfdb"
      ]
    },
    {
      "cell_type": "code",
      "source": [
        "import wfdb\n",
        "import csv\n",
        "from google.colab import drive\n",
        "import pandas as pd\n",
        "from sklearn.decomposition import PCA\n",
        "from sklearn.svm import SVC\n",
        "from sklearn.preprocessing import StandardScaler\n",
        "from sklearn.pipeline import Pipeline\n",
        "import matplotlib.pyplot as plt\n",
        "from mpl_toolkits.mplot3d import Axes3D\n",
        "from wfdb import processing\n",
        "import numpy as np\n",
        "import statistics\n",
        "import torch\n",
        "import torch.nn as nn\n",
        "from torch.autograd import Variable\n",
        "from torch.utils.data import DataLoader, TensorDataset\n",
        "import random\n",
        "from sklearn.model_selection import train_test_split, learning_curve\n",
        "from sklearn.preprocessing import LabelEncoder, StandardScaler\n",
        "from sklearn.metrics import accuracy_score, classification_report, confusion_matrix\n",
        "from sklearn.model_selection import LearningCurveDisplay\n",
        "import seaborn as sns\n",
        "random.seed(4)\n",
        "\n",
        "drive.mount('/content/drive')"
      ],
      "metadata": {
        "id": "F_-vPqo_xpb-"
      },
      "execution_count": null,
      "outputs": []
    },
    {
      "cell_type": "code",
      "source": [
        "# Function that returns path to the relevant patient files\n",
        "# Input: patient number (type=int)\n",
        "# Output: path (type=string)\n",
        "def get_path(patient_number):\n",
        "  return '/content/drive/My Drive/ECG Project Files/mit-bih-arrhythmia-database-1.0.0/'+str(patient_number)"
      ],
      "metadata": {
        "id": "D7wm1Y3FxuLl"
      },
      "execution_count": null,
      "outputs": []
    },
    {
      "cell_type": "code",
      "source": [
        "signals, fields = wfdb.rdsamp(get_path(100), sampfrom=3000, channels=[0,1])\n",
        "print(\"Signal:\", signals)\n",
        "print(\"Fields:\", fields)"
      ],
      "metadata": {
        "id": "_dYb_z4oxxN6"
      },
      "execution_count": null,
      "outputs": []
    },
    {
      "cell_type": "code",
      "source": [
        "# Data visualization\n",
        "temp_record = wfdb.rdrecord(get_path(205), sampto=3000)\n",
        "temp_annotation = wfdb.rdann(get_path(205), extension='atr', sampto=3000)\n",
        "wfdb.plot_wfdb(record=temp_record, annotation=temp_annotation, plot_sym=True, time_units='seconds', title='MIT-BIH Record 100', figsize=(10,4), ecg_grids='all')"
      ],
      "metadata": {
        "id": "8tlRbXHXx0yn"
      },
      "execution_count": null,
      "outputs": []
    },
    {
      "cell_type": "code",
      "source": [
        "#All labels present in the dataset\n",
        "wfdb.show_ann_labels()"
      ],
      "metadata": {
        "id": "be9_LB39x5LG"
      },
      "execution_count": null,
      "outputs": []
    },
    {
      "cell_type": "code",
      "source": [
        "# Function that returns the label for an interval of data samples\n",
        "# Input: start index (type=int), end index (type=int)\n",
        "# Output: label (type=str)\n",
        "def get_label_index(start_index, end_index, label_indices):\n",
        "  for i in range(len(label_indices)):\n",
        "    if (start_index<=label_indices[i])and(end_index>=label_indices[i]):\n",
        "      return i\n",
        "  return -1\n",
        "\n",
        "# Function that returns the label class\n",
        "# Input: label (type=str)\n",
        "# Output: label_class (type=str)\n",
        "def adjust_label(label):\n",
        "  B = \"LRje\"\n",
        "  S = \"Aasj\"\n",
        "  V = \"!VE[]\"\n",
        "  F = \"F\"\n",
        "  Q = \"f/Q\"\n",
        "  if(label==\"N\"):\n",
        "    return \"N\"\n",
        "  elif(B.find(label)!=-1):\n",
        "    return \"B\"\n",
        "  elif(S.find(label)!=-1):\n",
        "    return \"S\"\n",
        "  elif(V.find(label)!=-1):\n",
        "    return \"V\"\n",
        "  elif(F.find(label)!=-1):\n",
        "    return \"F\"\n",
        "  elif(Q.find(label)!=-1):\n",
        "    return \"Q\"\n",
        "  else:\n",
        "    return \"*\""
      ],
      "metadata": {
        "id": "S3qeIj46x71-"
      },
      "execution_count": null,
      "outputs": []
    },
    {
      "cell_type": "code",
      "source": [
        "# Function that returns sampling frequency for a patient file\n",
        "# Input: patient number (type=int)\n",
        "# Output: sampling frequency (type=int)\n",
        "def get_sampling_frequency(patient_number):\n",
        "  temp_sig, temp_fields = wfdb.rdsamp(get_path(patient_number), channels=[0])\n",
        "  return temp_fields['fs']\n",
        "\n",
        "\n",
        "# Function that returns peak indices for a patient file\n",
        "# Input: patient number (type=int)\n",
        "# Output: peak indices (type=list)\n",
        "def get_peak_indices(patient_number):\n",
        "  temp_sig, temp_fields = wfdb.rdsamp(get_path(patient_number), channels=[0])\n",
        "  peak_inds = processing.xqrs_detect(sig=temp_sig[:,0], fs=temp_fields['fs'])\n",
        "  return peak_inds\n",
        "\n",
        "# Function that returns start indices for beats for the whole patient file\n",
        "# Input: qrs indices (type=list)\n",
        "# Output: start indices (type=list)\n",
        "def get_start_index(qrs_indices):\n",
        "  temp_list = [0]\n",
        "  for i in range(len(qrs_indices)-1):\n",
        "    temp_avg = int((qrs_indices[i+1]+qrs_indices[i])/2)\n",
        "    temp_list.append(temp_avg)\n",
        "  return temp_list"
      ],
      "metadata": {
        "id": "4k6Tzc5Wx-L7"
      },
      "execution_count": null,
      "outputs": []
    },
    {
      "cell_type": "code",
      "source": [
        "temp_qrs_index = get_peak_indices(105) #patient specific list\n",
        "temp_start_index = get_start_index(temp_qrs_index)\n",
        "temp_signal, temp_fields = wfdb.rdsamp(get_path(105),channels=[0])\n",
        "\n",
        "# Sample visualization\n",
        "for i in range(2):\n",
        "  temp_start = temp_start_index[i]\n",
        "  temp_end = temp_start_index[i+1]\n",
        "  wfdb.plot.plot_items(signal=temp_signal[temp_start:temp_end])"
      ],
      "metadata": {
        "id": "nQ5zh5fiyEQv"
      },
      "execution_count": null,
      "outputs": []
    },
    {
      "cell_type": "code",
      "source": [
        "# Create CSV\n",
        "filename = \"processed_dataset(1_signal).csv\"\n",
        "outfile = open(filename, \"w\")\n",
        "out_csv = csv.writer(outfile)\n",
        "\n",
        "# Write CSV header with lead names\n",
        "out_csv.writerow([\"Label\", \"Signal\"])\n",
        "count = 0\n",
        "for patient_number in range(100,235):\n",
        "  try:\n",
        "    annotation = wfdb.rdann(get_path(patient_number), extension='atr')\n",
        "    label_index_list = annotation.sample\n",
        "    label_symbol_list = annotation.symbol\n",
        "    sampling_frequency = get_sampling_frequency(patient_number)\n",
        "    qrs_index = get_peak_indices(patient_number)\n",
        "    start_ind = get_start_index(qrs_index)\n",
        "    signal, fields = wfdb.rdsamp(get_path(patient_number),channels=[0])\n",
        "    print(\"Obtaining data from patient #\", patient_number)\n",
        "\n",
        "    for i in range(len(qrs_index)-1):\n",
        "        csv_row1 = []\n",
        "        cropped_signal = signal[start_ind[i]:start_ind[i+1]]\n",
        "        cropped_signal = np.array(cropped_signal).flatten()\n",
        "        cropped_signal = cropped_signal.tolist()\n",
        "        label_index = get_label_index(start_index=start_ind[i], end_index=start_ind[i+1], label_indices=label_index_list)\n",
        "        if (label_index==-1):\n",
        "          continue\n",
        "        label = label_symbol_list[label_index]\n",
        "        label = adjust_label(label)\n",
        "        if (label==\"*\"):\n",
        "          continue\n",
        "        csv_row1.append(label)\n",
        "        csv_row1.append(cropped_signal)\n",
        "        out_csv.writerow(csv_row1)\n",
        "  except FileNotFoundError:\n",
        "    continue"
      ],
      "metadata": {
        "id": "-bVjUQe5yGNi"
      },
      "execution_count": null,
      "outputs": []
    }
  ]
}